{
 "cells": [
  {
   "cell_type": "markdown",
   "metadata": {},
   "source": [
    "# Final Project - Peter Stoermer"
   ]
  },
  {
   "cell_type": "markdown",
   "metadata": {},
   "source": [
    "### Introduction"
   ]
  },
  {
   "cell_type": "markdown",
   "metadata": {},
   "source": [
    "- Explain the problem \n",
    "\n",
    "\n",
    "For the project I would like to investigate if there is a trend in overall happiness in different countries all around the world. I feel like in an uncertain time like today it is more important than ever for countries to work together to overcome the challenges of unahppiness in order to create a better environment for everyone. I would also like to see if there are different factors that could influence the overall happiness of a country."
   ]
  },
  {
   "cell_type": "markdown",
   "metadata": {},
   "source": [
    "- Short explanation of how to solve the problem\n",
    "\n",
    "To solve the problem I will import the data via a $.csv$ file into the notebook and clean the data to make it easier to work on using the techniques that we have learned throughout the semester. Then I will conduct some exploratory data slciing to find trends in the data and create tables and plots to visualize the trends that I found. By doing this I will create an easy to read and understand comprehensive overview of the data for the end user to use and learn from."
   ]
  },
  {
   "cell_type": "markdown",
   "metadata": {},
   "source": [
    "### Data Preparation"
   ]
  },
  {
   "cell_type": "code",
   "execution_count": 21,
   "metadata": {},
   "outputs": [
    {
     "name": "stderr",
     "output_type": "stream",
     "text": [
      "Linking to GEOS 3.9.0, GDAL 3.2.1, PROJ 7.2.1\n"
     ]
    }
   ],
   "source": [
    "# Importing libaries\n",
    "library(ggplot2)\n",
    "library(leaflet)\n",
    "library(cowplot)\n",
    "library(sf)"
   ]
  },
  {
   "cell_type": "code",
   "execution_count": 4,
   "metadata": {},
   "outputs": [
    {
     "data": {
      "text/html": [
       "<table>\n",
       "<thead><tr><th scope=col>Overall.rank</th><th scope=col>Country.or.region</th><th scope=col>Score</th><th scope=col>GDP.per.capita</th><th scope=col>Social.support</th><th scope=col>Healthy.life.expectancy</th><th scope=col>Freedom.to.make.life.choices</th><th scope=col>Generosity</th><th scope=col>Perceptions.of.corruption</th></tr></thead>\n",
       "<tbody>\n",
       "\t<tr><td>1          </td><td>Finland    </td><td>7.769      </td><td>1.340      </td><td>1.587      </td><td>0.986      </td><td>0.596      </td><td>0.153      </td><td>0.393      </td></tr>\n",
       "\t<tr><td>2          </td><td>Denmark    </td><td>7.600      </td><td>1.383      </td><td>1.573      </td><td>0.996      </td><td>0.592      </td><td>0.252      </td><td>0.410      </td></tr>\n",
       "\t<tr><td>3          </td><td>Norway     </td><td>7.554      </td><td>1.488      </td><td>1.582      </td><td>1.028      </td><td>0.603      </td><td>0.271      </td><td>0.341      </td></tr>\n",
       "\t<tr><td>4          </td><td>Iceland    </td><td>7.494      </td><td>1.380      </td><td>1.624      </td><td>1.026      </td><td>0.591      </td><td>0.354      </td><td>0.118      </td></tr>\n",
       "\t<tr><td>5          </td><td>Netherlands</td><td>7.488      </td><td>1.396      </td><td>1.522      </td><td>0.999      </td><td>0.557      </td><td>0.322      </td><td>0.298      </td></tr>\n",
       "\t<tr><td>6          </td><td>Switzerland</td><td>7.480      </td><td>1.452      </td><td>1.526      </td><td>1.052      </td><td>0.572      </td><td>0.263      </td><td>0.343      </td></tr>\n",
       "</tbody>\n",
       "</table>\n"
      ],
      "text/latex": [
       "\\begin{tabular}{r|lllllllll}\n",
       " Overall.rank & Country.or.region & Score & GDP.per.capita & Social.support & Healthy.life.expectancy & Freedom.to.make.life.choices & Generosity & Perceptions.of.corruption\\\\\n",
       "\\hline\n",
       "\t 1           & Finland     & 7.769       & 1.340       & 1.587       & 0.986       & 0.596       & 0.153       & 0.393      \\\\\n",
       "\t 2           & Denmark     & 7.600       & 1.383       & 1.573       & 0.996       & 0.592       & 0.252       & 0.410      \\\\\n",
       "\t 3           & Norway      & 7.554       & 1.488       & 1.582       & 1.028       & 0.603       & 0.271       & 0.341      \\\\\n",
       "\t 4           & Iceland     & 7.494       & 1.380       & 1.624       & 1.026       & 0.591       & 0.354       & 0.118      \\\\\n",
       "\t 5           & Netherlands & 7.488       & 1.396       & 1.522       & 0.999       & 0.557       & 0.322       & 0.298      \\\\\n",
       "\t 6           & Switzerland & 7.480       & 1.452       & 1.526       & 1.052       & 0.572       & 0.263       & 0.343      \\\\\n",
       "\\end{tabular}\n"
      ],
      "text/markdown": [
       "\n",
       "| Overall.rank | Country.or.region | Score | GDP.per.capita | Social.support | Healthy.life.expectancy | Freedom.to.make.life.choices | Generosity | Perceptions.of.corruption |\n",
       "|---|---|---|---|---|---|---|---|---|\n",
       "| 1           | Finland     | 7.769       | 1.340       | 1.587       | 0.986       | 0.596       | 0.153       | 0.393       |\n",
       "| 2           | Denmark     | 7.600       | 1.383       | 1.573       | 0.996       | 0.592       | 0.252       | 0.410       |\n",
       "| 3           | Norway      | 7.554       | 1.488       | 1.582       | 1.028       | 0.603       | 0.271       | 0.341       |\n",
       "| 4           | Iceland     | 7.494       | 1.380       | 1.624       | 1.026       | 0.591       | 0.354       | 0.118       |\n",
       "| 5           | Netherlands | 7.488       | 1.396       | 1.522       | 0.999       | 0.557       | 0.322       | 0.298       |\n",
       "| 6           | Switzerland | 7.480       | 1.452       | 1.526       | 1.052       | 0.572       | 0.263       | 0.343       |\n",
       "\n"
      ],
      "text/plain": [
       "  Overall.rank Country.or.region Score GDP.per.capita Social.support\n",
       "1 1            Finland           7.769 1.340          1.587         \n",
       "2 2            Denmark           7.600 1.383          1.573         \n",
       "3 3            Norway            7.554 1.488          1.582         \n",
       "4 4            Iceland           7.494 1.380          1.624         \n",
       "5 5            Netherlands       7.488 1.396          1.522         \n",
       "6 6            Switzerland       7.480 1.452          1.526         \n",
       "  Healthy.life.expectancy Freedom.to.make.life.choices Generosity\n",
       "1 0.986                   0.596                        0.153     \n",
       "2 0.996                   0.592                        0.252     \n",
       "3 1.028                   0.603                        0.271     \n",
       "4 1.026                   0.591                        0.354     \n",
       "5 0.999                   0.557                        0.322     \n",
       "6 1.052                   0.572                        0.263     \n",
       "  Perceptions.of.corruption\n",
       "1 0.393                    \n",
       "2 0.410                    \n",
       "3 0.341                    \n",
       "4 0.118                    \n",
       "5 0.298                    \n",
       "6 0.343                    "
      ]
     },
     "metadata": {},
     "output_type": "display_data"
    }
   ],
   "source": [
    "# Importing data set\n",
    "data <- read.csv('2019.csv')\n",
    "head(data)\n"
   ]
  },
  {
   "cell_type": "code",
   "execution_count": 5,
   "metadata": {},
   "outputs": [
    {
     "name": "stdout",
     "output_type": "stream",
     "text": [
      "'data.frame':\t156 obs. of  9 variables:\n",
      " $ Overall.rank                : int  1 2 3 4 5 6 7 8 9 10 ...\n",
      " $ Country.or.region           : Factor w/ 156 levels \"Afghanistan\",..: 44 37 106 58 99 134 133 100 24 7 ...\n",
      " $ Score                       : num  7.77 7.6 7.55 7.49 7.49 ...\n",
      " $ GDP.per.capita              : num  1.34 1.38 1.49 1.38 1.4 ...\n",
      " $ Social.support              : num  1.59 1.57 1.58 1.62 1.52 ...\n",
      " $ Healthy.life.expectancy     : num  0.986 0.996 1.028 1.026 0.999 ...\n",
      " $ Freedom.to.make.life.choices: num  0.596 0.592 0.603 0.591 0.557 0.572 0.574 0.585 0.584 0.532 ...\n",
      " $ Generosity                  : num  0.153 0.252 0.271 0.354 0.322 0.263 0.267 0.33 0.285 0.244 ...\n",
      " $ Perceptions.of.corruption   : num  0.393 0.41 0.341 0.118 0.298 0.343 0.373 0.38 0.308 0.226 ...\n",
      "[1] \"--------------------------------------------------------------------------------------------------\"\n",
      "[1] \"There are these many NA values in the data set:  0\"\n"
     ]
    }
   ],
   "source": [
    "# Data cleaning (checking NA values)\n",
    "str(data)\n",
    "print('--------------------------------------------------------------------------------------------------')\n",
    "sum = sum(is.na(data))\n",
    "str = \"There are these many NA values in the data set: \"\n",
    "result = paste(str, sum)\n",
    "print(result)"
   ]
  },
  {
   "cell_type": "code",
   "execution_count": 6,
   "metadata": {},
   "outputs": [
    {
     "data": {
      "text/html": [
       "<table>\n",
       "<thead><tr><th scope=col>rank</th><th scope=col>region</th><th scope=col>score</th><th scope=col>GDP_per_capita</th><th scope=col>support</th><th scope=col>life_expectancy</th><th scope=col>freedom</th><th scope=col>generosity</th><th scope=col>coruption</th></tr></thead>\n",
       "<tbody>\n",
       "\t<tr><td>1          </td><td>Finland    </td><td>7.769      </td><td>1.340      </td><td>1.587      </td><td>0.986      </td><td>0.596      </td><td>0.153      </td><td>0.393      </td></tr>\n",
       "\t<tr><td>2          </td><td>Denmark    </td><td>7.600      </td><td>1.383      </td><td>1.573      </td><td>0.996      </td><td>0.592      </td><td>0.252      </td><td>0.410      </td></tr>\n",
       "\t<tr><td>3          </td><td>Norway     </td><td>7.554      </td><td>1.488      </td><td>1.582      </td><td>1.028      </td><td>0.603      </td><td>0.271      </td><td>0.341      </td></tr>\n",
       "\t<tr><td>4          </td><td>Iceland    </td><td>7.494      </td><td>1.380      </td><td>1.624      </td><td>1.026      </td><td>0.591      </td><td>0.354      </td><td>0.118      </td></tr>\n",
       "\t<tr><td>5          </td><td>Netherlands</td><td>7.488      </td><td>1.396      </td><td>1.522      </td><td>0.999      </td><td>0.557      </td><td>0.322      </td><td>0.298      </td></tr>\n",
       "\t<tr><td>6          </td><td>Switzerland</td><td>7.480      </td><td>1.452      </td><td>1.526      </td><td>1.052      </td><td>0.572      </td><td>0.263      </td><td>0.343      </td></tr>\n",
       "</tbody>\n",
       "</table>\n"
      ],
      "text/latex": [
       "\\begin{tabular}{r|lllllllll}\n",
       " rank & region & score & GDP\\_per\\_capita & support & life\\_expectancy & freedom & generosity & coruption\\\\\n",
       "\\hline\n",
       "\t 1           & Finland     & 7.769       & 1.340       & 1.587       & 0.986       & 0.596       & 0.153       & 0.393      \\\\\n",
       "\t 2           & Denmark     & 7.600       & 1.383       & 1.573       & 0.996       & 0.592       & 0.252       & 0.410      \\\\\n",
       "\t 3           & Norway      & 7.554       & 1.488       & 1.582       & 1.028       & 0.603       & 0.271       & 0.341      \\\\\n",
       "\t 4           & Iceland     & 7.494       & 1.380       & 1.624       & 1.026       & 0.591       & 0.354       & 0.118      \\\\\n",
       "\t 5           & Netherlands & 7.488       & 1.396       & 1.522       & 0.999       & 0.557       & 0.322       & 0.298      \\\\\n",
       "\t 6           & Switzerland & 7.480       & 1.452       & 1.526       & 1.052       & 0.572       & 0.263       & 0.343      \\\\\n",
       "\\end{tabular}\n"
      ],
      "text/markdown": [
       "\n",
       "| rank | region | score | GDP_per_capita | support | life_expectancy | freedom | generosity | coruption |\n",
       "|---|---|---|---|---|---|---|---|---|\n",
       "| 1           | Finland     | 7.769       | 1.340       | 1.587       | 0.986       | 0.596       | 0.153       | 0.393       |\n",
       "| 2           | Denmark     | 7.600       | 1.383       | 1.573       | 0.996       | 0.592       | 0.252       | 0.410       |\n",
       "| 3           | Norway      | 7.554       | 1.488       | 1.582       | 1.028       | 0.603       | 0.271       | 0.341       |\n",
       "| 4           | Iceland     | 7.494       | 1.380       | 1.624       | 1.026       | 0.591       | 0.354       | 0.118       |\n",
       "| 5           | Netherlands | 7.488       | 1.396       | 1.522       | 0.999       | 0.557       | 0.322       | 0.298       |\n",
       "| 6           | Switzerland | 7.480       | 1.452       | 1.526       | 1.052       | 0.572       | 0.263       | 0.343       |\n",
       "\n"
      ],
      "text/plain": [
       "  rank region      score GDP_per_capita support life_expectancy freedom\n",
       "1 1    Finland     7.769 1.340          1.587   0.986           0.596  \n",
       "2 2    Denmark     7.600 1.383          1.573   0.996           0.592  \n",
       "3 3    Norway      7.554 1.488          1.582   1.028           0.603  \n",
       "4 4    Iceland     7.494 1.380          1.624   1.026           0.591  \n",
       "5 5    Netherlands 7.488 1.396          1.522   0.999           0.557  \n",
       "6 6    Switzerland 7.480 1.452          1.526   1.052           0.572  \n",
       "  generosity coruption\n",
       "1 0.153      0.393    \n",
       "2 0.252      0.410    \n",
       "3 0.271      0.341    \n",
       "4 0.354      0.118    \n",
       "5 0.322      0.298    \n",
       "6 0.263      0.343    "
      ]
     },
     "metadata": {},
     "output_type": "display_data"
    }
   ],
   "source": [
    "# Data cleaning (Renaming columns )\n",
    "data_1 <-data %>%\n",
    "    rename(\n",
    "        rank = Overall.rank,\n",
    "        region = Country.or.region, # I made this lower case for map visualization\n",
    "        score = Score,\n",
    "        GDP_per_capita = GDP.per.capita,\n",
    "        support = Social.support,\n",
    "        life_expectancy = Healthy.life.expectancy,\n",
    "        freedom =  Freedom.to.make.life.choices,\n",
    "        generosity = Generosity ,\n",
    "        coruption = Perceptions.of.corruption\n",
    "    )\n",
    "head(data_1)"
   ]
  },
  {
   "cell_type": "code",
   "execution_count": 7,
   "metadata": {},
   "outputs": [
    {
     "data": {
      "text/html": [
       "<table>\n",
       "<thead><tr><th scope=col>region</th><th scope=col>score</th><th scope=col>GDP_per_capita</th><th scope=col>support</th><th scope=col>life_expectancy</th><th scope=col>freedom</th><th scope=col>generosity</th><th scope=col>coruption</th></tr></thead>\n",
       "<tbody>\n",
       "\t<tr><td>Finland    </td><td>7.769      </td><td>1.340      </td><td>1.587      </td><td>0.986      </td><td>0.596      </td><td>0.153      </td><td>0.393      </td></tr>\n",
       "\t<tr><td>Denmark    </td><td>7.600      </td><td>1.383      </td><td>1.573      </td><td>0.996      </td><td>0.592      </td><td>0.252      </td><td>0.410      </td></tr>\n",
       "\t<tr><td>Norway     </td><td>7.554      </td><td>1.488      </td><td>1.582      </td><td>1.028      </td><td>0.603      </td><td>0.271      </td><td>0.341      </td></tr>\n",
       "\t<tr><td>Iceland    </td><td>7.494      </td><td>1.380      </td><td>1.624      </td><td>1.026      </td><td>0.591      </td><td>0.354      </td><td>0.118      </td></tr>\n",
       "\t<tr><td>Netherlands</td><td>7.488      </td><td>1.396      </td><td>1.522      </td><td>0.999      </td><td>0.557      </td><td>0.322      </td><td>0.298      </td></tr>\n",
       "\t<tr><td>Switzerland</td><td>7.480      </td><td>1.452      </td><td>1.526      </td><td>1.052      </td><td>0.572      </td><td>0.263      </td><td>0.343      </td></tr>\n",
       "</tbody>\n",
       "</table>\n"
      ],
      "text/latex": [
       "\\begin{tabular}{r|llllllll}\n",
       " region & score & GDP\\_per\\_capita & support & life\\_expectancy & freedom & generosity & coruption\\\\\n",
       "\\hline\n",
       "\t Finland     & 7.769       & 1.340       & 1.587       & 0.986       & 0.596       & 0.153       & 0.393      \\\\\n",
       "\t Denmark     & 7.600       & 1.383       & 1.573       & 0.996       & 0.592       & 0.252       & 0.410      \\\\\n",
       "\t Norway      & 7.554       & 1.488       & 1.582       & 1.028       & 0.603       & 0.271       & 0.341      \\\\\n",
       "\t Iceland     & 7.494       & 1.380       & 1.624       & 1.026       & 0.591       & 0.354       & 0.118      \\\\\n",
       "\t Netherlands & 7.488       & 1.396       & 1.522       & 0.999       & 0.557       & 0.322       & 0.298      \\\\\n",
       "\t Switzerland & 7.480       & 1.452       & 1.526       & 1.052       & 0.572       & 0.263       & 0.343      \\\\\n",
       "\\end{tabular}\n"
      ],
      "text/markdown": [
       "\n",
       "| region | score | GDP_per_capita | support | life_expectancy | freedom | generosity | coruption |\n",
       "|---|---|---|---|---|---|---|---|\n",
       "| Finland     | 7.769       | 1.340       | 1.587       | 0.986       | 0.596       | 0.153       | 0.393       |\n",
       "| Denmark     | 7.600       | 1.383       | 1.573       | 0.996       | 0.592       | 0.252       | 0.410       |\n",
       "| Norway      | 7.554       | 1.488       | 1.582       | 1.028       | 0.603       | 0.271       | 0.341       |\n",
       "| Iceland     | 7.494       | 1.380       | 1.624       | 1.026       | 0.591       | 0.354       | 0.118       |\n",
       "| Netherlands | 7.488       | 1.396       | 1.522       | 0.999       | 0.557       | 0.322       | 0.298       |\n",
       "| Switzerland | 7.480       | 1.452       | 1.526       | 1.052       | 0.572       | 0.263       | 0.343       |\n",
       "\n"
      ],
      "text/plain": [
       "  region      score GDP_per_capita support life_expectancy freedom generosity\n",
       "1 Finland     7.769 1.340          1.587   0.986           0.596   0.153     \n",
       "2 Denmark     7.600 1.383          1.573   0.996           0.592   0.252     \n",
       "3 Norway      7.554 1.488          1.582   1.028           0.603   0.271     \n",
       "4 Iceland     7.494 1.380          1.624   1.026           0.591   0.354     \n",
       "5 Netherlands 7.488 1.396          1.522   0.999           0.557   0.322     \n",
       "6 Switzerland 7.480 1.452          1.526   1.052           0.572   0.263     \n",
       "  coruption\n",
       "1 0.393    \n",
       "2 0.410    \n",
       "3 0.341    \n",
       "4 0.118    \n",
       "5 0.298    \n",
       "6 0.343    "
      ]
     },
     "metadata": {},
     "output_type": "display_data"
    },
    {
     "data": {
      "text/html": [
       "<table>\n",
       "<thead><tr><th></th><th scope=col>region</th><th scope=col>score</th><th scope=col>GDP_per_capita</th><th scope=col>support</th><th scope=col>life_expectancy</th><th scope=col>freedom</th><th scope=col>generosity</th><th scope=col>coruption</th></tr></thead>\n",
       "<tbody>\n",
       "\t<tr><th scope=row>151</th><td>Yemen                   </td><td>3.380                   </td><td>0.287                   </td><td>1.163                   </td><td>0.463                   </td><td>0.143                   </td><td>0.108                   </td><td>0.077                   </td></tr>\n",
       "\t<tr><th scope=row>152</th><td>Rwanda                  </td><td>3.334                   </td><td>0.359                   </td><td>0.711                   </td><td>0.614                   </td><td>0.555                   </td><td>0.217                   </td><td>0.411                   </td></tr>\n",
       "\t<tr><th scope=row>153</th><td>Tanzania                </td><td>3.231                   </td><td>0.476                   </td><td>0.885                   </td><td>0.499                   </td><td>0.417                   </td><td>0.276                   </td><td>0.147                   </td></tr>\n",
       "\t<tr><th scope=row>154</th><td>Afghanistan             </td><td>3.203                   </td><td>0.350                   </td><td>0.517                   </td><td>0.361                   </td><td>0.000                   </td><td>0.158                   </td><td>0.025                   </td></tr>\n",
       "\t<tr><th scope=row>155</th><td>Central African Republic</td><td>3.083                   </td><td>0.026                   </td><td>0.000                   </td><td>0.105                   </td><td>0.225                   </td><td>0.235                   </td><td>0.035                   </td></tr>\n",
       "\t<tr><th scope=row>156</th><td>South Sudan             </td><td>2.853                   </td><td>0.306                   </td><td>0.575                   </td><td>0.295                   </td><td>0.010                   </td><td>0.202                   </td><td>0.091                   </td></tr>\n",
       "</tbody>\n",
       "</table>\n"
      ],
      "text/latex": [
       "\\begin{tabular}{r|llllllll}\n",
       "  & region & score & GDP\\_per\\_capita & support & life\\_expectancy & freedom & generosity & coruption\\\\\n",
       "\\hline\n",
       "\t151 & Yemen                    & 3.380                    & 0.287                    & 1.163                    & 0.463                    & 0.143                    & 0.108                    & 0.077                   \\\\\n",
       "\t152 & Rwanda                   & 3.334                    & 0.359                    & 0.711                    & 0.614                    & 0.555                    & 0.217                    & 0.411                   \\\\\n",
       "\t153 & Tanzania                 & 3.231                    & 0.476                    & 0.885                    & 0.499                    & 0.417                    & 0.276                    & 0.147                   \\\\\n",
       "\t154 & Afghanistan              & 3.203                    & 0.350                    & 0.517                    & 0.361                    & 0.000                    & 0.158                    & 0.025                   \\\\\n",
       "\t155 & Central African Republic & 3.083                    & 0.026                    & 0.000                    & 0.105                    & 0.225                    & 0.235                    & 0.035                   \\\\\n",
       "\t156 & South Sudan              & 2.853                    & 0.306                    & 0.575                    & 0.295                    & 0.010                    & 0.202                    & 0.091                   \\\\\n",
       "\\end{tabular}\n"
      ],
      "text/markdown": [
       "\n",
       "| <!--/--> | region | score | GDP_per_capita | support | life_expectancy | freedom | generosity | coruption |\n",
       "|---|---|---|---|---|---|---|---|---|\n",
       "| 151 | Yemen                    | 3.380                    | 0.287                    | 1.163                    | 0.463                    | 0.143                    | 0.108                    | 0.077                    |\n",
       "| 152 | Rwanda                   | 3.334                    | 0.359                    | 0.711                    | 0.614                    | 0.555                    | 0.217                    | 0.411                    |\n",
       "| 153 | Tanzania                 | 3.231                    | 0.476                    | 0.885                    | 0.499                    | 0.417                    | 0.276                    | 0.147                    |\n",
       "| 154 | Afghanistan              | 3.203                    | 0.350                    | 0.517                    | 0.361                    | 0.000                    | 0.158                    | 0.025                    |\n",
       "| 155 | Central African Republic | 3.083                    | 0.026                    | 0.000                    | 0.105                    | 0.225                    | 0.235                    | 0.035                    |\n",
       "| 156 | South Sudan              | 2.853                    | 0.306                    | 0.575                    | 0.295                    | 0.010                    | 0.202                    | 0.091                    |\n",
       "\n"
      ],
      "text/plain": [
       "    region                   score GDP_per_capita support life_expectancy\n",
       "151 Yemen                    3.380 0.287          1.163   0.463          \n",
       "152 Rwanda                   3.334 0.359          0.711   0.614          \n",
       "153 Tanzania                 3.231 0.476          0.885   0.499          \n",
       "154 Afghanistan              3.203 0.350          0.517   0.361          \n",
       "155 Central African Republic 3.083 0.026          0.000   0.105          \n",
       "156 South Sudan              2.853 0.306          0.575   0.295          \n",
       "    freedom generosity coruption\n",
       "151 0.143   0.108      0.077    \n",
       "152 0.555   0.217      0.411    \n",
       "153 0.417   0.276      0.147    \n",
       "154 0.000   0.158      0.025    \n",
       "155 0.225   0.235      0.035    \n",
       "156 0.010   0.202      0.091    "
      ]
     },
     "metadata": {},
     "output_type": "display_data"
    }
   ],
   "source": [
    "# Data clenaing (Dropping rank column, its not needed)\n",
    "data_final <- select(data_1, -rank)\n",
    "head(data_final)\n",
    "tail(data_final)"
   ]
  },
  {
   "cell_type": "code",
   "execution_count": 8,
   "metadata": {},
   "outputs": [
    {
     "data": {
      "text/plain": [
       "         region        score       GDP_per_capita      support     \n",
       " Afghanistan:  1   Min.   :2.853   Min.   :0.0000   Min.   :0.000  \n",
       " Albania    :  1   1st Qu.:4.545   1st Qu.:0.6028   1st Qu.:1.056  \n",
       " Algeria    :  1   Median :5.380   Median :0.9600   Median :1.272  \n",
       " Argentina  :  1   Mean   :5.407   Mean   :0.9051   Mean   :1.209  \n",
       " Armenia    :  1   3rd Qu.:6.184   3rd Qu.:1.2325   3rd Qu.:1.452  \n",
       " Australia  :  1   Max.   :7.769   Max.   :1.6840   Max.   :1.624  \n",
       " (Other)    :150                                                   \n",
       " life_expectancy     freedom         generosity       coruption     \n",
       " Min.   :0.0000   Min.   :0.0000   Min.   :0.0000   Min.   :0.0000  \n",
       " 1st Qu.:0.5477   1st Qu.:0.3080   1st Qu.:0.1087   1st Qu.:0.0470  \n",
       " Median :0.7890   Median :0.4170   Median :0.1775   Median :0.0855  \n",
       " Mean   :0.7252   Mean   :0.3926   Mean   :0.1848   Mean   :0.1106  \n",
       " 3rd Qu.:0.8818   3rd Qu.:0.5072   3rd Qu.:0.2482   3rd Qu.:0.1412  \n",
       " Max.   :1.1410   Max.   :0.6310   Max.   :0.5660   Max.   :0.4530  \n",
       "                                                                    "
      ]
     },
     "metadata": {},
     "output_type": "display_data"
    }
   ],
   "source": [
    "# Summary (using summary())\n",
    "summary(data_final)"
   ]
  },
  {
   "cell_type": "code",
   "execution_count": 9,
   "metadata": {},
   "outputs": [
    {
     "data": {
      "image/png": "[encoded data removed]",
      "text/plain": [
       "Plot with title \"Histogram of score\""
      ]
     },
     "metadata": {},
     "output_type": "display_data"
    }
   ],
   "source": [
    "# Plot the distribution of variables using a histogram\n",
    "score <- data_final$score\n",
    "hist(score)"
   ]
  },
  {
   "cell_type": "markdown",
   "metadata": {},
   "source": [
    "### Exploratory Data Analysis"
   ]
  },
  {
   "cell_type": "code",
   "execution_count": 10,
   "metadata": {},
   "outputs": [
    {
     "data": {
      "text/html": [
       "<table>\n",
       "<thead><tr><th scope=col>region</th><th scope=col>score</th><th scope=col>GDP_per_capita</th><th scope=col>support</th><th scope=col>life_expectancy</th><th scope=col>freedom</th><th scope=col>generosity</th><th scope=col>coruption</th><th scope=col>percent_happier</th></tr></thead>\n",
       "<tbody>\n",
       "\t<tr><td>Finland    </td><td>7.769      </td><td>1.340      </td><td>1.587      </td><td>0.986      </td><td>0.596      </td><td>0.153      </td><td>0.393      </td><td>272.3098   </td></tr>\n",
       "\t<tr><td>Denmark    </td><td>7.600      </td><td>1.383      </td><td>1.573      </td><td>0.996      </td><td>0.592      </td><td>0.252      </td><td>0.410      </td><td>266.3863   </td></tr>\n",
       "\t<tr><td>Norway     </td><td>7.554      </td><td>1.488      </td><td>1.582      </td><td>1.028      </td><td>0.603      </td><td>0.271      </td><td>0.341      </td><td>264.7739   </td></tr>\n",
       "\t<tr><td>Iceland    </td><td>7.494      </td><td>1.380      </td><td>1.624      </td><td>1.026      </td><td>0.591      </td><td>0.354      </td><td>0.118      </td><td>262.6709   </td></tr>\n",
       "\t<tr><td>Netherlands</td><td>7.488      </td><td>1.396      </td><td>1.522      </td><td>0.999      </td><td>0.557      </td><td>0.322      </td><td>0.298      </td><td>262.4606   </td></tr>\n",
       "\t<tr><td>Switzerland</td><td>7.480      </td><td>1.452      </td><td>1.526      </td><td>1.052      </td><td>0.572      </td><td>0.263      </td><td>0.343      </td><td>262.1802   </td></tr>\n",
       "</tbody>\n",
       "</table>\n"
      ],
      "text/latex": [
       "\\begin{tabular}{r|lllllllll}\n",
       " region & score & GDP\\_per\\_capita & support & life\\_expectancy & freedom & generosity & coruption & percent\\_happier\\\\\n",
       "\\hline\n",
       "\t Finland     & 7.769       & 1.340       & 1.587       & 0.986       & 0.596       & 0.153       & 0.393       & 272.3098   \\\\\n",
       "\t Denmark     & 7.600       & 1.383       & 1.573       & 0.996       & 0.592       & 0.252       & 0.410       & 266.3863   \\\\\n",
       "\t Norway      & 7.554       & 1.488       & 1.582       & 1.028       & 0.603       & 0.271       & 0.341       & 264.7739   \\\\\n",
       "\t Iceland     & 7.494       & 1.380       & 1.624       & 1.026       & 0.591       & 0.354       & 0.118       & 262.6709   \\\\\n",
       "\t Netherlands & 7.488       & 1.396       & 1.522       & 0.999       & 0.557       & 0.322       & 0.298       & 262.4606   \\\\\n",
       "\t Switzerland & 7.480       & 1.452       & 1.526       & 1.052       & 0.572       & 0.263       & 0.343       & 262.1802   \\\\\n",
       "\\end{tabular}\n"
      ],
      "text/markdown": [
       "\n",
       "| region | score | GDP_per_capita | support | life_expectancy | freedom | generosity | coruption | percent_happier |\n",
       "|---|---|---|---|---|---|---|---|---|\n",
       "| Finland     | 7.769       | 1.340       | 1.587       | 0.986       | 0.596       | 0.153       | 0.393       | 272.3098    |\n",
       "| Denmark     | 7.600       | 1.383       | 1.573       | 0.996       | 0.592       | 0.252       | 0.410       | 266.3863    |\n",
       "| Norway      | 7.554       | 1.488       | 1.582       | 1.028       | 0.603       | 0.271       | 0.341       | 264.7739    |\n",
       "| Iceland     | 7.494       | 1.380       | 1.624       | 1.026       | 0.591       | 0.354       | 0.118       | 262.6709    |\n",
       "| Netherlands | 7.488       | 1.396       | 1.522       | 0.999       | 0.557       | 0.322       | 0.298       | 262.4606    |\n",
       "| Switzerland | 7.480       | 1.452       | 1.526       | 1.052       | 0.572       | 0.263       | 0.343       | 262.1802    |\n",
       "\n"
      ],
      "text/plain": [
       "  region      score GDP_per_capita support life_expectancy freedom generosity\n",
       "1 Finland     7.769 1.340          1.587   0.986           0.596   0.153     \n",
       "2 Denmark     7.600 1.383          1.573   0.996           0.592   0.252     \n",
       "3 Norway      7.554 1.488          1.582   1.028           0.603   0.271     \n",
       "4 Iceland     7.494 1.380          1.624   1.026           0.591   0.354     \n",
       "5 Netherlands 7.488 1.396          1.522   0.999           0.557   0.322     \n",
       "6 Switzerland 7.480 1.452          1.526   1.052           0.572   0.263     \n",
       "  coruption percent_happier\n",
       "1 0.393     272.3098       \n",
       "2 0.410     266.3863       \n",
       "3 0.341     264.7739       \n",
       "4 0.118     262.6709       \n",
       "5 0.298     262.4606       \n",
       "6 0.343     262.1802       "
      ]
     },
     "metadata": {},
     "output_type": "display_data"
    },
    {
     "data": {
      "text/html": [
       "<table>\n",
       "<thead><tr><th></th><th scope=col>region</th><th scope=col>score</th><th scope=col>GDP_per_capita</th><th scope=col>support</th><th scope=col>life_expectancy</th><th scope=col>freedom</th><th scope=col>generosity</th><th scope=col>coruption</th><th scope=col>percent_happier</th></tr></thead>\n",
       "<tbody>\n",
       "\t<tr><th scope=row>151</th><td>Yemen                   </td><td>3.380                   </td><td>0.287                   </td><td>1.163                   </td><td>0.463                   </td><td>0.143                   </td><td>0.108                   </td><td>0.077                   </td><td>118.4718                </td></tr>\n",
       "\t<tr><th scope=row>152</th><td>Rwanda                  </td><td>3.334                   </td><td>0.359                   </td><td>0.711                   </td><td>0.614                   </td><td>0.555                   </td><td>0.217                   </td><td>0.411                   </td><td>116.8594                </td></tr>\n",
       "\t<tr><th scope=row>153</th><td>Tanzania                </td><td>3.231                   </td><td>0.476                   </td><td>0.885                   </td><td>0.499                   </td><td>0.417                   </td><td>0.276                   </td><td>0.147                   </td><td>113.2492                </td></tr>\n",
       "\t<tr><th scope=row>154</th><td>Afghanistan             </td><td>3.203                   </td><td>0.350                   </td><td>0.517                   </td><td>0.361                   </td><td>0.000                   </td><td>0.158                   </td><td>0.025                   </td><td>112.2678                </td></tr>\n",
       "\t<tr><th scope=row>155</th><td>Central African Republic</td><td>3.083                   </td><td>0.026                   </td><td>0.000                   </td><td>0.105                   </td><td>0.225                   </td><td>0.235                   </td><td>0.035                   </td><td>108.0617                </td></tr>\n",
       "\t<tr><th scope=row>156</th><td>South Sudan             </td><td>2.853                   </td><td>0.306                   </td><td>0.575                   </td><td>0.295                   </td><td>0.010                   </td><td>0.202                   </td><td>0.091                   </td><td>100.0000                </td></tr>\n",
       "</tbody>\n",
       "</table>\n"
      ],
      "text/latex": [
       "\\begin{tabular}{r|lllllllll}\n",
       "  & region & score & GDP\\_per\\_capita & support & life\\_expectancy & freedom & generosity & coruption & percent\\_happier\\\\\n",
       "\\hline\n",
       "\t151 & Yemen                    & 3.380                    & 0.287                    & 1.163                    & 0.463                    & 0.143                    & 0.108                    & 0.077                    & 118.4718                \\\\\n",
       "\t152 & Rwanda                   & 3.334                    & 0.359                    & 0.711                    & 0.614                    & 0.555                    & 0.217                    & 0.411                    & 116.8594                \\\\\n",
       "\t153 & Tanzania                 & 3.231                    & 0.476                    & 0.885                    & 0.499                    & 0.417                    & 0.276                    & 0.147                    & 113.2492                \\\\\n",
       "\t154 & Afghanistan              & 3.203                    & 0.350                    & 0.517                    & 0.361                    & 0.000                    & 0.158                    & 0.025                    & 112.2678                \\\\\n",
       "\t155 & Central African Republic & 3.083                    & 0.026                    & 0.000                    & 0.105                    & 0.225                    & 0.235                    & 0.035                    & 108.0617                \\\\\n",
       "\t156 & South Sudan              & 2.853                    & 0.306                    & 0.575                    & 0.295                    & 0.010                    & 0.202                    & 0.091                    & 100.0000                \\\\\n",
       "\\end{tabular}\n"
      ],
      "text/markdown": [
       "\n",
       "| <!--/--> | region | score | GDP_per_capita | support | life_expectancy | freedom | generosity | coruption | percent_happier |\n",
       "|---|---|---|---|---|---|---|---|---|---|\n",
       "| 151 | Yemen                    | 3.380                    | 0.287                    | 1.163                    | 0.463                    | 0.143                    | 0.108                    | 0.077                    | 118.4718                 |\n",
       "| 152 | Rwanda                   | 3.334                    | 0.359                    | 0.711                    | 0.614                    | 0.555                    | 0.217                    | 0.411                    | 116.8594                 |\n",
       "| 153 | Tanzania                 | 3.231                    | 0.476                    | 0.885                    | 0.499                    | 0.417                    | 0.276                    | 0.147                    | 113.2492                 |\n",
       "| 154 | Afghanistan              | 3.203                    | 0.350                    | 0.517                    | 0.361                    | 0.000                    | 0.158                    | 0.025                    | 112.2678                 |\n",
       "| 155 | Central African Republic | 3.083                    | 0.026                    | 0.000                    | 0.105                    | 0.225                    | 0.235                    | 0.035                    | 108.0617                 |\n",
       "| 156 | South Sudan              | 2.853                    | 0.306                    | 0.575                    | 0.295                    | 0.010                    | 0.202                    | 0.091                    | 100.0000                 |\n",
       "\n"
      ],
      "text/plain": [
       "    region                   score GDP_per_capita support life_expectancy\n",
       "151 Yemen                    3.380 0.287          1.163   0.463          \n",
       "152 Rwanda                   3.334 0.359          0.711   0.614          \n",
       "153 Tanzania                 3.231 0.476          0.885   0.499          \n",
       "154 Afghanistan              3.203 0.350          0.517   0.361          \n",
       "155 Central African Republic 3.083 0.026          0.000   0.105          \n",
       "156 South Sudan              2.853 0.306          0.575   0.295          \n",
       "    freedom generosity coruption percent_happier\n",
       "151 0.143   0.108      0.077     118.4718       \n",
       "152 0.555   0.217      0.411     116.8594       \n",
       "153 0.417   0.276      0.147     113.2492       \n",
       "154 0.000   0.158      0.025     112.2678       \n",
       "155 0.225   0.235      0.035     108.0617       \n",
       "156 0.010   0.202      0.091     100.0000       "
      ]
     },
     "metadata": {},
     "output_type": "display_data"
    }
   ],
   "source": [
    "# Adding a new column to find the percent happier of each country compared the least happiest\n",
    "\n",
    "percent_happy <- data_final %>% mutate(percent_happier = (score/min(score) * 100))\n",
    "head(percent_happy)\n",
    "tail(percent_happy)"
   ]
  },
  {
   "cell_type": "code",
   "execution_count": 11,
   "metadata": {},
   "outputs": [
    {
     "data": {
      "image/png": "[encoded data removed]",
      "text/plain": [
       "plot without title"
      ]
     },
     "metadata": {},
     "output_type": "display_data"
    }
   ],
   "source": [
    "# Provide findings in a plot or a table\n",
    "p1 <- ggplot(data = data_final, aes(x = GDP_per_capita, y = score)) +\n",
    "  geom_point()\n",
    "p2 <-ggplot(data = data_final, aes(x = support, y = score)) +\n",
    "  geom_point()\n",
    "p3 <-ggplot(data = data_final, aes(x = life_expectancy, y = score)) +\n",
    "  geom_point()\n",
    "p4 <-ggplot(data = data_final, aes(x = freedom, y = score)) +\n",
    "  geom_point()\n",
    "p5 <-ggplot(data = data_final, aes(x = generosity, y = score)) +\n",
    "  geom_point()\n",
    "p6 <-ggplot(data = data_final, aes(x = coruption, y = score)) +\n",
    "  geom_point()\n",
    "plot_grid(p1, p2, p3, p4, p5, p6)"
   ]
  },
  {
   "cell_type": "code",
   "execution_count": 55,
   "metadata": {},
   "outputs": [
    {
     "data": {
      "image/png": "[encoded data removed]",
      "text/plain": [
       "plot without title"
      ]
     },
     "metadata": {},
     "output_type": "display_data"
    }
   ],
   "source": [
    "#Attempt to fix the world\n",
    "\n",
    "mapdata <- map_data(\"world\")\n",
    "mapdata1 <- mapdata %>%    # Rename columns\n",
    "  # Replace \"United States of America\" by USA in the region column\n",
    "  mutate(\n",
    "    region = ifelse(region == \"USA\", \"United States\", region)\n",
    "    )     \n",
    "mapdata_final <- left_join(mapdata1, data_final, by = \"region\")\n",
    "map <- ggplot(mapdata_final, aes(x = long, y = lat, group=group)) + geom_polygon(aes(fill = score), color = \"black\")\n",
    "map"
   ]
  }
 ],
 "metadata": {
  "kernelspec": {
   "display_name": "R",
   "language": "R",
   "name": "ir"
  },
  "language_info": {
   "codemirror_mode": "r",
   "file_extension": ".r",
   "mimetype": "text/x-r-source",
   "name": "R",
   "pygments_lexer": "r",
   "version": "3.6.1"
  }
 },
 "nbformat": 4,
 "nbformat_minor": 4
}
